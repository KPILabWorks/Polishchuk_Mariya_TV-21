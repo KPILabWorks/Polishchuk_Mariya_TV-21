{
 "cells": [
  {
   "cell_type": "code",
   "execution_count": 6,
   "id": "a10000fa-b928-4489-ae70-13cc6b656321",
   "metadata": {},
   "outputs": [
    {
     "name": "stdout",
     "output_type": "stream",
     "text": [
      "         raw_date converted_date\n",
      "0  March 19, 2024     2024-03-19\n",
      "1      19-03-2024     2024-03-19\n",
      "2      2024/03/19     2024-03-19\n",
      "3      03.19.2024     2024-03-19\n",
      "4   19 March 2024     2024-03-19\n",
      "5      2024 03 19     2024-03-19\n",
      "6       19/Mar/24     2024-03-19\n",
      "7    Invalid date            NaT\n"
     ]
    }
   ],
   "source": [
    "import pandas as pd\n",
    "from datetime import datetime\n",
    "\n",
    "# Створюємо DataFrame з різними форматами дат\n",
    "data = {\n",
    "    \"raw_date\": [\n",
    "        \"March 19, 2024\",   # Англійський формат\n",
    "        \"19-03-2024\",       # День-місяць-рік\n",
    "        \"2024/03/19\",       # Рік/місяць/день\n",
    "        \"03.19.2024\",       # Американський формат\n",
    "        \"19 March 2024\",    # День + місяць + рік\n",
    "        \"2024 03 19\",       # Розділення пробілами\n",
    "        \"19/Mar/24\",        # Короткий формат\n",
    "        \"Invalid date\"      # Некоректне значення\n",
    "    ]\n",
    "}\n",
    "\n",
    "df = pd.DataFrame(data)\n",
    "\n",
    "# Список можливих форматів дат\n",
    "date_formats = [\n",
    "    \"%B %d, %Y\",   # March 19, 2024\n",
    "    \"%d-%m-%Y\",    # 19-03-2024\n",
    "    \"%Y/%m/%d\",    # 2024/03/19\n",
    "    \"%m.%d.%Y\",    # 03.19.2024\n",
    "    \"%d %B %Y\",    # 19 March 2024\n",
    "    \"%Y %m %d\",    # 2024 03 19\n",
    "    \"%d/%b/%y\"     # 19/Mar/24\n",
    "]\n",
    "\n",
    "# Функція для конвертації\n",
    "def convert_date(date_str):\n",
    "    for fmt in date_formats:\n",
    "        try:\n",
    "            return datetime.strptime(date_str, fmt)\n",
    "        except ValueError:\n",
    "            continue\n",
    "    return pd.NaT  # Якщо не вдалося розпізнати\n",
    "\n",
    "# Застосовуємо функцію до колонки\n",
    "df[\"converted_date\"] = df[\"raw_date\"].apply(convert_date)\n",
    "\n",
    "# Виводимо результат\n",
    "print(df)\n"
   ]
  },
  {
   "cell_type": "code",
   "execution_count": null,
   "id": "87b0078a-afd6-4b88-ab56-51bf86724893",
   "metadata": {},
   "outputs": [],
   "source": []
  }
 ],
 "metadata": {
  "kernelspec": {
   "display_name": "Python 3 (ipykernel)",
   "language": "python",
   "name": "python3"
  },
  "language_info": {
   "codemirror_mode": {
    "name": "ipython",
    "version": 3
   },
   "file_extension": ".py",
   "mimetype": "text/x-python",
   "name": "python",
   "nbconvert_exporter": "python",
   "pygments_lexer": "ipython3",
   "version": "3.12.7"
  }
 },
 "nbformat": 4,
 "nbformat_minor": 5
}
